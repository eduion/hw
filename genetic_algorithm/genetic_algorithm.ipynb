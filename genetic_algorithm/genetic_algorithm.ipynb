{
  "nbformat": 4,
  "nbformat_minor": 0,
  "metadata": {
    "colab": {
      "provenance": [],
      "authorship_tag": "ABX9TyPuWWqWUB66onya5UXmPS8Y",
      "include_colab_link": true
    },
    "kernelspec": {
      "name": "python3",
      "display_name": "Python 3"
    },
    "language_info": {
      "name": "python"
    }
  },
  "cells": [
    {
      "cell_type": "markdown",
      "metadata": {
        "id": "view-in-github",
        "colab_type": "text"
      },
      "source": [
        "<a href=\"https://colab.research.google.com/github/eduion/hw/blob/main/genetic_algorithm/genetic_algorithm.ipynb\" target=\"_parent\"><img src=\"https://colab.research.google.com/assets/colab-badge.svg\" alt=\"Open In Colab\"/></a>"
      ]
    },
    {
      "cell_type": "code",
      "execution_count": 104,
      "metadata": {
        "id": "QgYJVNczNHjO"
      },
      "outputs": [],
      "source": [
        "import random\n",
        "import matplotlib.pyplot as plt\n",
        "#背包資訊\n",
        "weights = [41, 50, 49, 59, 55, 57, 60]\n",
        "profits = [442, 525, 511, 593, 546, 564, 617]\n",
        "max_weight = 170\n",
        "population_size = 50\n",
        "mutation_rate = 0.1 #0換1或1換0的機率\n",
        "max_generation = 100 #迭代100次\n",
        "\n",
        "def initialize_population(): # 隨機生成50個初始解，且重量不超過限制重量\n",
        "  population = []\n",
        "  for i in range(population_size):\n",
        "    while True:\n",
        "      individual = [random.randint(0,1) for x in range(len(weights))]\n",
        "      if evaluate(individual)>-1:\n",
        "        population.append(individual)\n",
        "        break\n",
        "  return population\n",
        "def evaluate(solution): #計算當前的profit\n",
        "  total_weight = 0\n",
        "  total_profit = 0\n",
        "  for i in range(len(solution)):\n",
        "    if solution[i] == 1:\n",
        "      total_weight = total_weight + weights[i]\n",
        "      total_profit = total_profit + profits[i]\n",
        "  if total_weight > max_weight:\n",
        "    return -1 #超重profit設為-1\n",
        "  else:\n",
        "    return total_profit\n",
        "  return total_profit,total_weight\n",
        "\n",
        "def select_parents(population): #輪盤法選擇父母個體，profit越高被選中的機率越大\n",
        "  total_fitness = 0 #total profit\n",
        "  for individual in population:\n",
        "    total_fitness = total_fitness + evaluate(individual)\n",
        "  roulette_wheel = []\n",
        "  cumulative_probability = 0\n",
        "  for individual in population:\n",
        "    fitness = evaluate(individual)\n",
        "    probability = fitness/total_fitness\n",
        "    cumulative_probability = cumulative_probability + probability #做成輪盤\n",
        "    roulette_wheel.append((individual,cumulative_probability))\n",
        "  parent = []\n",
        "  while len(parent)<2:\n",
        "    rand = random.random() #隨機生成0-1的數去選擇parent\n",
        "    for individual,cumulative_probaility in roulette_wheel:\n",
        "      if rand<=cumulative_probaility:\n",
        "        parent.append(individual)\n",
        "        break\n",
        "  return parent"
      ]
    },
    {
      "cell_type": "code",
      "source": [
        "def crossover(parent1,parent2): #基因互換\n",
        "  crossover_point = random.randint(1,len(parent1)-1) #隨機互換的點\n",
        "  child1 = parent1[:crossover_point]+parent2[crossover_point:]\n",
        "  child2 = parent2[:crossover_point]+parent1[crossover_point:]\n",
        "  return child1,child2\n",
        "\n",
        "def mutate(solution):#隨機把陣列的0換1，1換0\n",
        "  for i in range(len(solution)):\n",
        "    if random.random() < mutation_rate:\n",
        "      if solution[i]==0:\n",
        "        solution[i]=1\n",
        "      else:\n",
        "        solution[i]=0\n",
        "  return solution"
      ],
      "metadata": {
        "id": "yfxU2ypEzwo4"
      },
      "execution_count": 105,
      "outputs": []
    },
    {
      "cell_type": "code",
      "source": [
        "def max_profit(solution,population,record_profit): #找最大的profit\n",
        "  generate_solution = population[0].copy()\n",
        "  best_profit = evaluate(population[0])\n",
        "  for i in range(1,len(population)): #從目前generate找最大的profit出來，再跟所有generate的最大profit比\n",
        "    if evaluate(population[i])>best_profit:\n",
        "      generate_solution = population[i].copy()\n",
        "      best_profit = evaluate(population[i])\n",
        "  if len(record_profit)==0:\n",
        "    record_profit.append(best_profit)\n",
        "    solution = generate_solution.copy()\n",
        "  else:\n",
        "    tmp = record_profit[len(record_profit)-1]\n",
        "    if tmp >=best_profit:\n",
        "      record_profit.append(tmp)\n",
        "    else:\n",
        "      record_profit.append(best_profit)\n",
        "      solution = generate_solution.copy()\n",
        "  return solution"
      ],
      "metadata": {
        "id": "lk8K5G88zsyF"
      },
      "execution_count": 106,
      "outputs": []
    },
    {
      "cell_type": "code",
      "source": [
        "def genetic_algorithm():\n",
        "  record_profit = []\n",
        "  solution = None #最佳解\n",
        "  population = initialize_population() #隨機生成50個初始解\n",
        "  solution = max_profit(solution,population,record_profit)\n",
        "  for generation in range(max_generation): #迭代100次，每次都要選擇新的parents\n",
        "    parents = select_parents(population)\n",
        "    offspring = []\n",
        "    while len(offspring)<population_size: #要生成population_size個child\n",
        "      child1,child2 = crossover(parents[0],parents[1])\n",
        "      offspring.append(mutate(child1))\n",
        "      offspring.append(mutate(child2))\n",
        "      if evaluate(offspring[0])==-1 or evaluate(offspring[1])==-1: #生成的解也不能超過限制重量\n",
        "        offspring=[]\n",
        "    population  = offspring.copy()\n",
        "    solution = max_profit(solution,population,record_profit)\n",
        "  # 迭代100次後找最大的profit\n",
        "  return solution,record_profit"
      ],
      "metadata": {
        "id": "iOjeHq2ZzrF4"
      },
      "execution_count": 110,
      "outputs": []
    },
    {
      "cell_type": "code",
      "source": [
        "solution,record_profit = genetic_algorithm()\n",
        "print(\"最佳解:\",solution)\n",
        "print(\"最佳profit:\",record_profit[len(record_profit)-1])\n",
        "plt.plot(range(1,max_generation+2),record_profit)\n",
        "plt.xlabel(\"iterations\")\n",
        "plt.ylabel('profits')\n",
        "plt.show()"
      ],
      "metadata": {
        "colab": {
          "base_uri": "https://localhost:8080/",
          "height": 484
        },
        "id": "qn-68WVTznqg",
        "outputId": "c197471a-3ba6-4c17-9f25-3d8d694747f8"
      },
      "execution_count": 112,
      "outputs": [
        {
          "output_type": "stream",
          "name": "stdout",
          "text": [
            "最佳解: [0, 1, 0, 1, 0, 0, 1]\n",
            "最佳profit: 1735\n"
          ]
        },
        {
          "output_type": "display_data",
          "data": {
            "text/plain": [
              "<Figure size 640x480 with 1 Axes>"
            ],
            "image/png": "[encoded data removed]"
          },
          "metadata": {}
        }
      ]
    }
  ]
}